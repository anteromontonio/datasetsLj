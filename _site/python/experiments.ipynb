{
 "cells": [
  {
   "cell_type": "code",
   "execution_count": 4,
   "metadata": {},
   "outputs": [],
   "source": [
    "import os\n",
    "from pathlib import Path\n",
    "import pandas as pd\n",
    "import numpy as np"
   ]
  },
  {
   "cell_type": "code",
   "execution_count": 5,
   "metadata": {},
   "outputs": [],
   "source": [
    "data=pd.read_csv(\"../csv_files/ChiralMaps.csv\")\n",
    "data.replace(np.nan, '', regex=True)"
   ]
  },
  {
   "cell_type": "code",
   "execution_count": 9,
   "metadata": {},
   "outputs": [
    {
     "data": {
      "text/plain": [
       "25"
      ]
     },
     "execution_count": 9,
     "metadata": {},
     "output_type": "execute_result"
    }
   ],
   "source": [
    "max_rows=5000\n",
    "data_split_list=[]\n",
    "for i in range(len(data)//max_rows):\n",
    "    data_split_list.append(data.iloc[max_rows*i:max_rows*(i+1)])\n",
    "data_split_list.append(data.iloc[max_rows*(len(data)//max_rows):])\n",
    "len(data_split_list)"
   ]
  },
  {
   "cell_type": "code",
   "execution_count": 10,
   "metadata": {},
   "outputs": [],
   "source": [
    "frontmatter='---\\n layout: default\\n dataset: chirMaps\\n---\\n'\n",
    "prehtml=\"\"\n",
    "\n",
    "for i in range(len(data_split_list)):\n",
    "    html=data_split_list[i].to_html(index=False)\n",
    "    html=html.replace('border=\"1\"', 'id=\"myTable\"')\n",
    "    html=html.replace('class=\"dataframe\"','class=\"display compact\" style=\"width=100%\"')\n",
    "    html=html.replace('style=\"text-align: right;\"','')\n",
    "    with open(f'../_tables/chirMaps{i}.md', 'w') as md_file:\n",
    "        md_file.write(frontmatter)\n",
    "        md_file.write(html)\n",
    "        "
   ]
  },
  {
   "cell_type": "code",
   "execution_count": 35,
   "metadata": {},
   "outputs": [],
   "source": []
  },
  {
   "cell_type": "code",
   "execution_count": null,
   "metadata": {},
   "outputs": [],
   "source": []
  }
 ],
 "metadata": {
  "kernelspec": {
   "display_name": "Python 3",
   "language": "python",
   "name": "python3"
  },
  "language_info": {
   "codemirror_mode": {
    "name": "ipython",
    "version": 3
   },
   "file_extension": ".py",
   "mimetype": "text/x-python",
   "name": "python",
   "nbconvert_exporter": "python",
   "pygments_lexer": "ipython3",
   "version": "3.11.6"
  }
 },
 "nbformat": 4,
 "nbformat_minor": 2
}
